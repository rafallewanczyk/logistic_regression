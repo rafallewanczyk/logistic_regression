{
 "cells": [
  {
   "cell_type": "markdown",
   "metadata": {},
   "source": [
    "Przygotowanie danych "
   ]
  },
  {
   "cell_type": "code",
   "execution_count": 1,
   "metadata": {},
   "outputs": [],
   "source": [
    "import gzip\n",
    "import numpy as np\n",
    "import time"
   ]
  },
  {
   "cell_type": "code",
   "execution_count": 7,
   "metadata": {},
   "outputs": [
    {
     "name": "stdout",
     "output_type": "stream",
     "text": [
      "(41386, 784)\n",
      "(41386, 1)\n"
     ]
    }
   ],
   "source": [
    "IMAGE_SIZE = 28\n",
    "\n",
    "validation_image = gzip.open(\"C:\\\\Users\\\\rafal.000\\\\python\\\\allegro\\\\logistic_regression\\\\validate\\\\t10k-images-idx3-ubyte.gz\", \"r\")\n",
    "validation_labels = gzip.open(\"C:\\\\Users\\\\rafal.000\\\\python\\\\allegro\\\\logistic_regression\\\\validate\\\\t10k-labels-idx1-ubyte.gz\", \"r\")\n",
    "\n",
    "train_image = gzip.open(\"C:\\\\Users\\\\rafal.000\\\\python\\\\allegro\\\\logistic_regression\\\\train\\\\train-images-idx3-ubyte.gz\", \"r\")\n",
    "train_labels = gzip.open(\"C:\\\\Users\\\\rafal.000\\\\python\\\\allegro\\\\logistic_regression\\\\train\\\\train-labels-idx1-ubyte.gz\", \"r\")\n",
    "\n",
    "validation_image.read(16)\n",
    "validation_labels.read(8)\n",
    "train_image.read(16)\n",
    "train_labels.read(8)\n",
    "\n",
    "def is_prime(x):\n",
    "    if x in [2,3,5,7]:\n",
    "        return 1\n",
    "    elif x in [4,6,8]:\n",
    "        return 0 \n",
    "    return -1\n",
    "\n",
    "is_prime = np.vectorize(is_prime)\n",
    "\n",
    "def generate_matrices(buffer, length):\n",
    "    M = np.frombuffer(buffer, dtype=np.uint8)\n",
    "    M = M.reshape(int(M.shape[0]/(length**2)), -1)\n",
    "\n",
    "    return M\n",
    "\n",
    "def generate_map(labels):\n",
    "    map = np.argwhere(labels == -1)\n",
    "    return map.T[0]\n",
    "\n",
    "\n",
    "X = generate_matrices(train_image.read(), IMAGE_SIZE)\n",
    "y = is_prime(generate_matrices(train_labels.read(), 1))\n",
    "map = generate_map(y)\n",
    "\n",
    "X = np.delete(X, map, 0)\n",
    "y = np.delete(y, map, 0)\n",
    "\n",
    "\n",
    "\n",
    "v_X = generate_matrices(validation_image.read(), IMAGE_SIZE)\n",
    "v_y = is_prime(generate_matrices(validation_labels.read(), 1))\n",
    "map = generate_map(v_y)\n",
    "\n",
    "v_X = np.delete(v_X, map, 0)\n",
    "v_y = np.delete(v_y, map, 0)\n",
    "\n",
    "print(X.shape)\n",
    "print(y.shape)\n",
    "\n"
   ]
  },
  {
   "cell_type": "markdown",
   "metadata": {},
   "source": [
    "Model"
   ]
  },
  {
   "cell_type": "code",
   "execution_count": 14,
   "metadata": {},
   "outputs": [],
   "source": [
    "theta = np.ndarray((IMAGE_SIZE **2, 1))\n",
    "step_size = 0.8\n",
    "epochs = 10\n",
    "momentum = 0.9\n",
    "reg = 0.000001\n",
    "\n",
    "np.random.seed(1337)\n",
    "\n",
    "def sigma(z):\n",
    "    return 1 / (1 + np.exp(-z))\n",
    "\n",
    "def fit(X, y):\n",
    "    theta = np.zeros((IMAGE_SIZE **2, 1))\n",
    "    V = np.zeros((IMAGE_SIZE **2, 1))\n",
    "\n",
    "    start = time.time()\n",
    "    iteration_start = start\n",
    "    permutation = np.arange(X.shape[0])\n",
    "    for epoch in range(1, epochs+1):\n",
    "        np.random.shuffle(permutation)\n",
    "        for i in permutation:\n",
    "            gradient = (y[i] - sigma(np.matmul(theta.T, X[i])))*X[i].reshape(IMAGE_SIZE**2, 1) - 2*reg*theta\n",
    "            V = momentum * V + (1-momentum) * gradient\n",
    "            theta = theta + step_size*V\n",
    "\n",
    "       \n",
    "        print(f\"{epoch}/{epochs} iteracja zakonczona po {time.time() - iteration_start}\")\n",
    "        iteration_start = time.time()\n",
    "    print(f\"trening zakonczony po {time.time() - start}\")\n",
    "    return theta\n",
    "\n",
    "def predict(theta, X):\n",
    "    return sigma(theta.T @ X)\n",
    "\n",
    "def evaluate(theta, X, y):\n",
    "    correct = 0.0\n",
    "    total = 0.0 \n",
    "    \n",
    "    for i in range(X.shape[0]):\n",
    "        if np.ceil(predict(theta, X[i])) == y[i] : \n",
    "            correct += 1 \n",
    "        total += 1 \n",
    "    return correct/total\n"
   ]
  },
  {
   "cell_type": "code",
   "execution_count": 15,
   "metadata": {
    "scrolled": false
   },
   "outputs": [
    {
     "name": "stdout",
     "output_type": "stream",
     "text": [
      "1/10 iteracja zakonczona po 3.3979554176330566\n",
      "2/10 iteracja zakonczona po 3.5178020000457764\n",
      "3/10 iteracja zakonczona po 3.641969919204712\n",
      "4/10 iteracja zakonczona po 3.6545228958129883\n",
      "5/10 iteracja zakonczona po 3.9475162029266357\n",
      "6/10 iteracja zakonczona po 3.7187647819519043\n",
      "7/10 iteracja zakonczona po 3.619630813598633\n",
      "8/10 iteracja zakonczona po 3.6481316089630127\n",
      "9/10 iteracja zakonczona po 3.7659175395965576\n",
      "10/10 iteracja zakonczona po 3.6149933338165283\n",
      "trening zakonczony po 36.5282084941864\n"
     ]
    }
   ],
   "source": [
    "theta = fit(X, y)"
   ]
  },
  {
   "cell_type": "code",
   "execution_count": 16,
   "metadata": {},
   "outputs": [
    {
     "data": {
      "text/plain": [
       "0.8856893542757417"
      ]
     },
     "execution_count": 16,
     "metadata": {},
     "output_type": "execute_result"
    }
   ],
   "source": [
    "evaluate(theta, v_X, v_y)"
   ]
  },
  {
   "cell_type": "code",
   "execution_count": null,
   "metadata": {},
   "outputs": [],
   "source": []
  },
  {
   "cell_type": "code",
   "execution_count": null,
   "metadata": {},
   "outputs": [],
   "source": []
  },
  {
   "cell_type": "code",
   "execution_count": null,
   "metadata": {},
   "outputs": [],
   "source": []
  }
 ],
 "metadata": {
  "kernelspec": {
   "display_name": "Python 3",
   "language": "python",
   "name": "python3"
  },
  "language_info": {
   "codemirror_mode": {
    "name": "ipython",
    "version": 3
   },
   "file_extension": ".py",
   "mimetype": "text/x-python",
   "name": "python",
   "nbconvert_exporter": "python",
   "pygments_lexer": "ipython3",
   "version": "3.7.4"
  }
 },
 "nbformat": 4,
 "nbformat_minor": 2
}
