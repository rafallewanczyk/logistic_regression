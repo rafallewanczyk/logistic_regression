{
 "cells": [
  {
   "cell_type": "markdown",
   "metadata": {},
   "source": [
    "Przygotowanie danych "
   ]
  },
  {
   "cell_type": "code",
   "execution_count": 1,
   "metadata": {},
   "outputs": [],
   "source": [
    "import gzip\n",
    "import numpy as np\n",
    "import time"
   ]
  },
  {
   "cell_type": "code",
   "execution_count": 2,
   "metadata": {},
   "outputs": [
    {
     "name": "stdout",
     "output_type": "stream",
     "text": [
      "(41386, 784)\n",
      "(41386, 1)\n"
     ]
    }
   ],
   "source": [
    "IMAGE_SIZE = 28\n",
    "\n",
    "validation_image = gzip.open(\"C:\\\\Users\\\\rafal.000\\\\python\\\\allegro\\\\logistic_regression\\\\validate\\\\t10k-images-idx3-ubyte.gz\", \"r\")\n",
    "validation_labels = gzip.open(\"C:\\\\Users\\\\rafal.000\\\\python\\\\allegro\\\\logistic_regression\\\\validate\\\\t10k-labels-idx1-ubyte.gz\", \"r\")\n",
    "\n",
    "train_image = gzip.open(\"C:\\\\Users\\\\rafal.000\\\\python\\\\allegro\\\\logistic_regression\\\\train\\\\train-images-idx3-ubyte.gz\", \"r\")\n",
    "train_labels = gzip.open(\"C:\\\\Users\\\\rafal.000\\\\python\\\\allegro\\\\logistic_regression\\\\train\\\\train-labels-idx1-ubyte.gz\", \"r\")\n",
    "\n",
    "validation_image.read(16)\n",
    "validation_labels.read(8)\n",
    "train_image.read(16)\n",
    "train_labels.read(8)\n",
    "\n",
    "def is_prime(x):\n",
    "    if x in [2,3,5,7]:\n",
    "        return 1\n",
    "    elif x in [4,6,8]:\n",
    "        return 0 \n",
    "    return -1\n",
    "\n",
    "is_prime = np.vectorize(is_prime)\n",
    "\n",
    "def generate_matrices(buffer, length):\n",
    "    M = np.frombuffer(buffer, dtype=np.uint8)\n",
    "    M = M.reshape(int(M.shape[0]/(length**2)), -1)\n",
    "\n",
    "    return M\n",
    "\n",
    "def generate_map(labels):\n",
    "    map = np.argwhere(labels == -1)\n",
    "    return map.T[0]\n",
    "\n",
    "\n",
    "X = generate_matrices(train_image.read(), IMAGE_SIZE)\n",
    "y = is_prime(generate_matrices(train_labels.read(), 1))\n",
    "map = generate_map(y)\n",
    "\n",
    "X = np.delete(X, map, 0)\n",
    "y = np.delete(y, map, 0)\n",
    "\n",
    "\n",
    "\n",
    "v_X = generate_matrices(validation_image.read(), IMAGE_SIZE)\n",
    "v_y = is_prime(generate_matrices(validation_labels.read(), 1))\n",
    "map = generate_map(v_y)\n",
    "\n",
    "v_X = np.delete(v_X, map, 0)\n",
    "v_y = np.delete(v_y, map, 0)\n",
    "\n",
    "print(X.shape)\n",
    "print(y.shape)\n",
    "\n"
   ]
  },
  {
   "cell_type": "markdown",
   "metadata": {},
   "source": [
    "Model"
   ]
  },
  {
   "cell_type": "code",
   "execution_count": 54,
   "metadata": {},
   "outputs": [],
   "source": [
    "theta = np.ndarray((IMAGE_SIZE **2, 1))\n",
    "step_size = 0.8\n",
    "epochs = 30\n",
    "momentum = 0.9\n",
    "reg = 0.00001\n",
    "\n",
    "np.random.seed(1337)\n",
    "\n",
    "def sigma(z):\n",
    "    return 1 / (1 + np.exp(-z))\n",
    "\n",
    "def cost(theta, X, y):\n",
    "    cost = y*np.log(sigma(np.dot(X,theta)) + 1e-7)+(1-y)*np.log(1-sigma(np.dot(X,theta)) +1e-7)\n",
    "    return cost.mean()\n",
    "    \n",
    "    \n",
    "def fit(X, y):\n",
    "    theta = np.zeros((IMAGE_SIZE **2, 1))\n",
    "    V = np.zeros((IMAGE_SIZE **2, 1))\n",
    "\n",
    "    start = time.time()\n",
    "    iteration_start = start\n",
    "    permutation = np.arange(X.shape[0])\n",
    "    for epoch in range(1, epochs+1):\n",
    "        np.random.shuffle(permutation)\n",
    "        for i in permutation:\n",
    "            gradient = (y[i] - sigma(np.matmul(theta.T, X[i])))*X[i].reshape(IMAGE_SIZE**2, 1) - 2*reg*theta\n",
    "            V = momentum * V + (1-momentum) * gradient\n",
    "            theta = theta + step_size*V\n",
    "       \n",
    "        print(f\"{epoch}/{epochs} iteracja zakonczona po {time.time() - iteration_start}\")\n",
    "        iteration_start = time.time()\n",
    "    print(f\"trening zakonczony po {time.time() - start}\")\n",
    "    return theta\n",
    "\n",
    "def predict(theta, X):\n",
    "    return sigma(theta.T @ X)\n",
    "\n",
    "def evaluate(theta, X, y):\n",
    "    correct = 0.0\n",
    "    total = 0.0 \n",
    "    \n",
    "    for i in range(X.shape[0]):\n",
    "        if np.rint(predict(theta, X[i])) == y[i] : \n",
    "            correct += 1 \n",
    "        total += 1 \n",
    "    return correct/total\n"
   ]
  },
  {
   "cell_type": "code",
   "execution_count": 55,
   "metadata": {
    "scrolled": true
   },
   "outputs": [
    {
     "name": "stdout",
     "output_type": "stream",
     "text": [
      "-6.858739190342799\n",
      "1/30 iteracja zakonczona po 1.4600822925567627\n",
      "2/30 iteracja zakonczona po 1.5507605075836182\n",
      "3/30 iteracja zakonczona po 1.4707624912261963\n",
      "4/30 iteracja zakonczona po 1.6771645545959473\n",
      "5/30 iteracja zakonczona po 1.4011597633361816\n",
      "6/30 iteracja zakonczona po 1.576566219329834\n",
      "7/30 iteracja zakonczona po 1.460557460784912\n",
      "8/30 iteracja zakonczona po 1.5168743133544922\n",
      "9/30 iteracja zakonczona po 1.4167296886444092\n",
      "10/30 iteracja zakonczona po 1.4092230796813965\n",
      "11/30 iteracja zakonczona po 1.5223913192749023\n",
      "12/30 iteracja zakonczona po 1.4187994003295898\n",
      "13/30 iteracja zakonczona po 1.5579898357391357\n",
      "14/30 iteracja zakonczona po 1.398751974105835\n",
      "15/30 iteracja zakonczona po 1.5687742233276367\n",
      "16/30 iteracja zakonczona po 1.3984386920928955\n",
      "17/30 iteracja zakonczona po 1.4078989028930664\n",
      "18/30 iteracja zakonczona po 1.5678627490997314\n",
      "19/30 iteracja zakonczona po 1.406402349472046\n",
      "20/30 iteracja zakonczona po 1.5652697086334229\n",
      "21/30 iteracja zakonczona po 1.409970760345459\n",
      "22/30 iteracja zakonczona po 1.6688587665557861\n",
      "23/30 iteracja zakonczona po 1.5123846530914307\n",
      "24/30 iteracja zakonczona po 1.6436665058135986\n",
      "25/30 iteracja zakonczona po 1.5149528980255127\n",
      "26/30 iteracja zakonczona po 1.768219232559204\n",
      "27/30 iteracja zakonczona po 1.8709990978240967\n",
      "28/30 iteracja zakonczona po 1.802492618560791\n",
      "29/30 iteracja zakonczona po 1.5188891887664795\n",
      "30/30 iteracja zakonczona po 1.9206578731536865\n",
      "trening zakonczony po 46.39048504829407\n",
      "-1.669215537863228\n"
     ]
    }
   ],
   "source": [
    "print(cost(theta, X, y))\n",
    "theta = fit(X, y)\n",
    "print(cost(theta, X, y))"
   ]
  },
  {
   "cell_type": "code",
   "execution_count": 56,
   "metadata": {},
   "outputs": [
    {
     "name": "stdout",
     "output_type": "stream",
     "text": [
      "0.8964384091238583\n",
      "0.8945607911576497\n"
     ]
    }
   ],
   "source": [
    "print(evaluate(theta, X, y))\n",
    "print(evaluate(theta, v_X, v_y))"
   ]
  },
  {
   "cell_type": "code",
   "execution_count": null,
   "metadata": {},
   "outputs": [],
   "source": []
  },
  {
   "cell_type": "code",
   "execution_count": null,
   "metadata": {},
   "outputs": [],
   "source": []
  },
  {
   "cell_type": "code",
   "execution_count": null,
   "metadata": {},
   "outputs": [],
   "source": []
  }
 ],
 "metadata": {
  "kernelspec": {
   "display_name": "Python 3",
   "language": "python",
   "name": "python3"
  },
  "language_info": {
   "codemirror_mode": {
    "name": "ipython",
    "version": 3
   },
   "file_extension": ".py",
   "mimetype": "text/x-python",
   "name": "python",
   "nbconvert_exporter": "python",
   "pygments_lexer": "ipython3",
   "version": "3.7.4"
  }
 },
 "nbformat": 4,
 "nbformat_minor": 2
}
