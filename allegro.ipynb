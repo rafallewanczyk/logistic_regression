{
 "cells": [
  {
   "cell_type": "markdown",
   "metadata": {},
   "source": [
    "Przygotowanie danych "
   ]
  },
  {
   "cell_type": "code",
   "execution_count": 1,
   "metadata": {},
   "outputs": [],
   "source": [
    "import gzip\n",
    "import numpy as np\n",
    "import time"
   ]
  },
  {
   "cell_type": "code",
   "execution_count": 2,
   "metadata": {},
   "outputs": [],
   "source": [
    "IMAGE_SIZE = 28\n",
    "\n",
    "validation_image = gzip.open(\"C:\\\\Users\\\\rafal\\\\python\\\\t10k-images-idx3-ubyte.gz\", \"r\")\n",
    "validation_labels = gzip.open(\"C:\\\\Users\\\\rafal\\\\python\\\\t10k-labels-idx1-ubyte.gz\", \"r\")\n",
    "\n",
    "train_image = gzip.open(\"C:\\\\Users\\\\rafal\\\\python\\\\train-images-idx3-ubyte.gz\", \"r\")\n",
    "train_labels = gzip.open(\"C:\\\\Users\\\\rafal\\\\python\\\\train-labels-idx1-ubyte.gz\", \"r\")\n",
    "\n",
    "validation_image.read(16)\n",
    "validation_labels.read(8)\n",
    "train_image.read(16)\n",
    "train_labels.read(8)\n",
    "\n",
    "def is_prime(x):\n",
    "    if x in [2,3,5,7]:\n",
    "        return 1\n",
    "    elif x in [4,6,8]:\n",
    "        return 0 \n",
    "    return -1\n",
    "\n",
    "is_prime = np.vectorize(is_prime)\n",
    "\n",
    "def generate_matrices(buffer, length):\n",
    "    M = np.frombuffer(buffer, dtype=np.uint8)\n",
    "    M = M.reshape(int(M.shape[0]/(length**2)), length**2)\n",
    "\n",
    "    return M\n",
    "\n",
    "def generate_map(labels):\n",
    "    map = np.argwhere(labels == -1)\n",
    "    return map.T[0]\n",
    "\n",
    "\n",
    "X = generate_matrices(train_image.read(), IMAGE_SIZE)\n",
    "y = is_prime(generate_matrices(train_labels.read(), 1))\n",
    "map = generate_map(y)\n",
    "\n",
    "X = np.delete(X, map, 0)\n",
    "y = np.delete(y, map, 0)\n",
    "\n",
    "\n",
    "\n",
    "v_X = generate_matrices(validation_image.read(), IMAGE_SIZE)\n",
    "v_y = is_prime(generate_matrices(validation_labels.read(), 1))\n",
    "map = generate_map(v_y)\n",
    "\n",
    "v_X = np.delete(v_X, map, 0)\n",
    "v_y = np.delete(v_y, map, 0)\n",
    "\n"
   ]
  },
  {
   "cell_type": "markdown",
   "metadata": {},
   "source": [
    "Model"
   ]
  },
  {
   "cell_type": "code",
   "execution_count": 209,
   "metadata": {},
   "outputs": [],
   "source": [
    "theta = np.ndarray((IMAGE_SIZE **2, 1))\n",
    "step_size = 0.8\n",
    "epochs = 50\n",
    "momentum = 0.9\n",
    "reg = 0.0001\n",
    "\n",
    "def sigma(z):\n",
    "    return 1 / (1 + np.exp(-z))\n",
    "\n",
    "def fit(X, y):\n",
    "    theta = np.zeros((IMAGE_SIZE **2, 1))\n",
    "    V = np.zeros((IMAGE_SIZE **2, 1))\n",
    "\n",
    "    start = time.time()\n",
    "    iteration_start = start\n",
    "    permutation = np.arange(X.shape[0])\n",
    "    for epoch in range(1, epochs+1):\n",
    "        np.random.shuffle(permutation)\n",
    "        for i in permutation:\n",
    "            gradient = (y[i] - sigma(np.matmul(theta.T, X[i])))*X[i].reshape(IMAGE_SIZE**2, 1) - 2*reg*theta\n",
    "            V = momentum * V + (1-momentum) * gradient\n",
    "            theta = theta + step_size*V\n",
    "\n",
    "       \n",
    "        print(f\"{epoch}/{epochs} iteracja zakonczona po {time.time() - iteration_start}\")\n",
    "        iteration_start = time.time()\n",
    "    print(f\"trening zakonczony po {time.time() - start}\")\n",
    "    return theta\n",
    "\n",
    "def predict(theta, X):\n",
    "    return sigma(theta.T @ X)\n",
    "\n",
    "def evaluate(theta, X, y):\n",
    "    correct = 0.0\n",
    "    total = 0.0 \n",
    "    \n",
    "    for i in range(X.shape[0]):\n",
    "        if np.ceil(predict(theta, X[i])) == y[i] : \n",
    "            correct += 1 \n",
    "        total += 1 \n",
    "    return correct/total\n"
   ]
  },
  {
   "cell_type": "code",
   "execution_count": 210,
   "metadata": {
    "scrolled": false
   },
   "outputs": [
    {
     "name": "stdout",
     "output_type": "stream",
     "text": [
      "1/50 iteracja zakonczona po 1.7798306941986084\n",
      "2/50 iteracja zakonczona po 1.7571682929992676\n",
      "3/50 iteracja zakonczona po 2.084101915359497\n",
      "4/50 iteracja zakonczona po 1.7804913520812988\n",
      "5/50 iteracja zakonczona po 1.7918944358825684\n",
      "6/50 iteracja zakonczona po 2.058729410171509\n",
      "7/50 iteracja zakonczona po 1.8965981006622314\n",
      "8/50 iteracja zakonczona po 1.818906307220459\n",
      "9/50 iteracja zakonczona po 1.6695103645324707\n",
      "10/50 iteracja zakonczona po 1.787813663482666\n",
      "11/50 iteracja zakonczona po 1.8574237823486328\n",
      "12/50 iteracja zakonczona po 1.8173696994781494\n",
      "13/50 iteracja zakonczona po 1.8836746215820312\n",
      "14/50 iteracja zakonczona po 1.8704745769500732\n",
      "15/50 iteracja zakonczona po 1.9108185768127441\n",
      "16/50 iteracja zakonczona po 1.8433239459991455\n",
      "17/50 iteracja zakonczona po 1.852555513381958\n",
      "18/50 iteracja zakonczona po 1.8119008541107178\n",
      "19/50 iteracja zakonczona po 1.7539684772491455\n",
      "20/50 iteracja zakonczona po 1.8452401161193848\n",
      "21/50 iteracja zakonczona po 1.865354299545288\n",
      "22/50 iteracja zakonczona po 1.8559231758117676\n",
      "23/50 iteracja zakonczona po 1.7749042510986328\n",
      "24/50 iteracja zakonczona po 1.702949047088623\n",
      "25/50 iteracja zakonczona po 1.8727025985717773\n",
      "26/50 iteracja zakonczona po 1.9410121440887451\n",
      "27/50 iteracja zakonczona po 1.8963468074798584\n",
      "28/50 iteracja zakonczona po 1.906400442123413\n",
      "29/50 iteracja zakonczona po 1.983280897140503\n",
      "30/50 iteracja zakonczona po 2.071251630783081\n",
      "31/50 iteracja zakonczona po 1.7629311084747314\n",
      "32/50 iteracja zakonczona po 1.87239408493042\n",
      "33/50 iteracja zakonczona po 1.9141523838043213\n",
      "34/50 iteracja zakonczona po 1.8317408561706543\n",
      "35/50 iteracja zakonczona po 1.9153268337249756\n",
      "36/50 iteracja zakonczona po 1.839259147644043\n",
      "37/50 iteracja zakonczona po 1.830383539199829\n",
      "38/50 iteracja zakonczona po 1.7049477100372314\n",
      "39/50 iteracja zakonczona po 1.8428831100463867\n",
      "40/50 iteracja zakonczona po 1.7307555675506592\n",
      "41/50 iteracja zakonczona po 1.7999470233917236\n",
      "42/50 iteracja zakonczona po 1.7714009284973145\n",
      "43/50 iteracja zakonczona po 1.7901763916015625\n",
      "44/50 iteracja zakonczona po 1.8334054946899414\n",
      "45/50 iteracja zakonczona po 1.7370483875274658\n",
      "46/50 iteracja zakonczona po 1.7854325771331787\n",
      "47/50 iteracja zakonczona po 1.8423833847045898\n",
      "48/50 iteracja zakonczona po 1.6760890483856201\n",
      "49/50 iteracja zakonczona po 1.6774981021881104\n",
      "50/50 iteracja zakonczona po 1.7171103954315186\n",
      "trening zakonczony po 91.63118243217468\n"
     ]
    }
   ],
   "source": [
    "theta = fit(X, y)"
   ]
  },
  {
   "cell_type": "code",
   "execution_count": 208,
   "metadata": {},
   "outputs": [
    {
     "data": {
      "text/plain": [
       "0.8198080279232112"
      ]
     },
     "execution_count": 208,
     "metadata": {},
     "output_type": "execute_result"
    }
   ],
   "source": [
    "evaluate(theta, v_X, v_y)"
   ]
  },
  {
   "cell_type": "code",
   "execution_count": null,
   "metadata": {},
   "outputs": [],
   "source": []
  },
  {
   "cell_type": "code",
   "execution_count": null,
   "metadata": {},
   "outputs": [],
   "source": []
  },
  {
   "cell_type": "code",
   "execution_count": null,
   "metadata": {},
   "outputs": [],
   "source": []
  }
 ],
 "metadata": {
  "kernelspec": {
   "display_name": "Python 3",
   "language": "python",
   "name": "python3"
  },
  "language_info": {
   "codemirror_mode": {
    "name": "ipython",
    "version": 3
   },
   "file_extension": ".py",
   "mimetype": "text/x-python",
   "name": "python",
   "nbconvert_exporter": "python",
   "pygments_lexer": "ipython3",
   "version": "3.7.4"
  }
 },
 "nbformat": 4,
 "nbformat_minor": 2
}
