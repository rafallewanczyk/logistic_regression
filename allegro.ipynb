{
 "cells": [
  {
   "cell_type": "markdown",
   "metadata": {},
   "source": [
    "Przygotowanie danych "
   ]
  },
  {
   "cell_type": "code",
   "execution_count": 25,
   "metadata": {},
   "outputs": [],
   "source": [
    "import gzip\n",
    "import numpy as np\n",
    "import time\n",
    "import matplotlib.pyplot as plt "
   ]
  },
  {
   "cell_type": "code",
   "execution_count": 29,
   "metadata": {},
   "outputs": [
    {
     "name": "stdout",
     "output_type": "stream",
     "text": [
      "(41386, 784)\n",
      "(41386, 1)\n"
     ]
    }
   ],
   "source": [
    "IMAGE_SIZE = 28\n",
    "\n",
    "validation_image = gzip.open(\".\\\\validate\\\\t10k-images-idx3-ubyte.gz\", \"r\")\n",
    "validation_labels = gzip.open(\".\\\\validate\\\\t10k-labels-idx1-ubyte.gz\", \"r\")\n",
    "\n",
    "train_image = gzip.open(\".\\\\train\\\\train-images-idx3-ubyte.gz\", \"r\")\n",
    "train_labels = gzip.open(\".\\\\train\\\\train-labels-idx1-ubyte.gz\", \"r\")\n",
    "\n",
    "validation_image.read(16)\n",
    "validation_labels.read(8)\n",
    "train_image.read(16)\n",
    "train_labels.read(8)\n",
    "\n",
    "def is_prime(x):\n",
    "    if x in [2,3,5,7]:\n",
    "        return 1\n",
    "    elif x in [4,6,8]:\n",
    "        return 0 \n",
    "    return -1\n",
    "\n",
    "is_prime = np.vectorize(is_prime)\n",
    "\n",
    "def generate_matrices(buffer, length):\n",
    "    M = np.frombuffer(buffer, dtype=np.uint8)\n",
    "    M = M.reshape(int(M.shape[0]/(length**2)), -1)\n",
    "\n",
    "    return M\n",
    "\n",
    "def generate_map(labels):\n",
    "    map = np.argwhere(labels == -1)\n",
    "    return map.T[0]\n",
    "\n",
    "\n",
    "X = generate_matrices(train_image.read(), IMAGE_SIZE)\n",
    "y = is_prime(generate_matrices(train_labels.read(), 1))\n",
    "map = generate_map(y)\n",
    "\n",
    "X = np.delete(X, map, 0)\n",
    "y = np.delete(y, map, 0)\n",
    "\n",
    "\n",
    "\n",
    "v_X = generate_matrices(validation_image.read(), IMAGE_SIZE)\n",
    "v_y = is_prime(generate_matrices(validation_labels.read(), 1))\n",
    "map = generate_map(v_y)\n",
    "\n",
    "v_X = np.delete(v_X, map, 0)\n",
    "v_y = np.delete(v_y, map, 0)\n",
    "\n",
    "print(X.shape)\n",
    "print(y.shape)\n",
    "\n"
   ]
  },
  {
   "cell_type": "markdown",
   "metadata": {},
   "source": [
    "Model"
   ]
  },
  {
   "cell_type": "code",
   "execution_count": 107,
   "metadata": {},
   "outputs": [],
   "source": [
    "theta = np.zeros((IMAGE_SIZE **2, 1))\n",
    "step_size = 0.003\n",
    "epochs = 96\n",
    "momentum = 0.9\n",
    "reg = 0.0#0001\n",
    "\n",
    "np.random.seed(1337)\n",
    "\n",
    "def sigma(z):\n",
    "    return 1 / (1 + np.exp(-z))\n",
    "\n",
    "def cost(theta, X, y):\n",
    "    cost = -y*np.log(sigma(np.matmul(X,theta)) + 1e-7)-(1-y)*np.log(1-sigma(np.matmul(X,theta)) +1e-7) \n",
    "    reg_cost = reg/2 * theta**2 \n",
    "    return cost.mean() + reg_cost.mean()\n",
    "    \n",
    "    \n",
    "def fit(X, y):\n",
    "    theta = np.zeros((IMAGE_SIZE **2, 1))\n",
    "    V = np.zeros((IMAGE_SIZE **2, 1))\n",
    "    y_axis = []\n",
    "    \n",
    "    start = time.time()\n",
    "    iteration_start = start\n",
    "    permutation = np.arange(X.shape[0])\n",
    "    for epoch in range(1, epochs+1):\n",
    "        np.random.shuffle(permutation)\n",
    "        for i in permutation:\n",
    "            gradient = (y[i] - sigma(np.matmul(theta.T, X[i])))*X[i].reshape(IMAGE_SIZE**2, 1) - 2*reg*theta\n",
    "            V = momentum * V + (1-momentum) * gradient\n",
    "            theta = theta + step_size*V\n",
    "            \n",
    "        print(f\"{epoch}/{epochs} iteracja zakonczona po {time.time() - iteration_start}\")\n",
    "        iteration_start = time.time()\n",
    "        y_axis.append(cost(theta, X, y))  \n",
    "      \n",
    "    x_axis = np.arange(0, len(y_axis))\n",
    "    fig, ax = plt.subplots()\n",
    "    ax.plot(x_axis, y_axis)\n",
    "    plt.show()\n",
    "        \n",
    "    print(f\"trening zakonczony po {time.time() - start}\")\n",
    "    print(\"lowest\", y_axis.index(min(y_axis)))\n",
    "    \n",
    "    return theta\n",
    "\n",
    "def predict(theta, X):\n",
    "    return sigma(theta.T @ X)\n",
    "\n",
    "def evaluate(theta, X, y):\n",
    "    correct = 0.0\n",
    "    total = 0.0 \n",
    "    \n",
    "    for i in range(X.shape[0]):\n",
    "        if np.rint(predict(theta, X[i])) == y[i] : \n",
    "            correct += 1 \n",
    "        total += 1 \n",
    "    return correct/total\n"
   ]
  },
  {
   "cell_type": "code",
   "execution_count": 108,
   "metadata": {
    "scrolled": true
   },
   "outputs": [
    {
     "name": "stdout",
     "output_type": "stream",
     "text": [
      "1/96 iteracja zakonczona po 1.6589758396148682\n",
      "2/96 iteracja zakonczona po 2.1176929473876953\n",
      "3/96 iteracja zakonczona po 2.158668279647827\n",
      "4/96 iteracja zakonczona po 2.1346824169158936\n",
      "5/96 iteracja zakonczona po 2.148679494857788\n",
      "6/96 iteracja zakonczona po 2.1386749744415283\n",
      "7/96 iteracja zakonczona po 2.146674871444702\n",
      "8/96 iteracja zakonczona po 2.163675546646118\n",
      "9/96 iteracja zakonczona po 2.155674695968628\n",
      "10/96 iteracja zakonczona po 2.1536660194396973\n",
      "11/96 iteracja zakonczona po 2.172659158706665\n",
      "12/96 iteracja zakonczona po 2.1686618328094482\n",
      "13/96 iteracja zakonczona po 2.169666051864624\n",
      "14/96 iteracja zakonczona po 2.1596622467041016\n",
      "15/96 iteracja zakonczona po 2.1466755867004395\n",
      "16/96 iteracja zakonczona po 2.1496734619140625\n",
      "17/96 iteracja zakonczona po 2.169661045074463\n",
      "18/96 iteracja zakonczona po 2.179655075073242\n",
      "19/96 iteracja zakonczona po 2.1846516132354736\n",
      "20/96 iteracja zakonczona po 2.1776561737060547\n",
      "21/96 iteracja zakonczona po 2.172659397125244\n",
      "22/96 iteracja zakonczona po 2.180654287338257\n",
      "23/96 iteracja zakonczona po 2.173647403717041\n",
      "24/96 iteracja zakonczona po 2.186662197113037\n",
      "25/96 iteracja zakonczona po 2.1636526584625244\n",
      "26/96 iteracja zakonczona po 2.162665843963623\n",
      "27/96 iteracja zakonczona po 2.1436774730682373\n",
      "28/96 iteracja zakonczona po 2.1716597080230713\n",
      "29/96 iteracja zakonczona po 2.1676623821258545\n",
      "30/96 iteracja zakonczona po 2.1526715755462646\n",
      "31/96 iteracja zakonczona po 2.1746580600738525\n",
      "32/96 iteracja zakonczona po 2.1666629314422607\n",
      "33/96 iteracja zakonczona po 2.1636648178100586\n",
      "34/96 iteracja zakonczona po 2.1836631298065186\n",
      "35/96 iteracja zakonczona po 2.239621639251709\n",
      "36/96 iteracja zakonczona po 2.2616047859191895\n",
      "37/96 iteracja zakonczona po 2.1636648178100586\n",
      "38/96 iteracja zakonczona po 2.1856558322906494\n",
      "39/96 iteracja zakonczona po 2.1596624851226807\n",
      "40/96 iteracja zakonczona po 2.1796553134918213\n",
      "41/96 iteracja zakonczona po 2.151671886444092\n",
      "42/96 iteracja zakonczona po 2.172658920288086\n",
      "43/96 iteracja zakonczona po 2.1686620712280273\n",
      "44/96 iteracja zakonczona po 2.172659158706665\n",
      "45/96 iteracja zakonczona po 2.2146384716033936\n",
      "46/96 iteracja zakonczona po 2.1926422119140625\n",
      "47/96 iteracja zakonczona po 2.187649726867676\n",
      "48/96 iteracja zakonczona po 2.180659532546997\n",
      "49/96 iteracja zakonczona po 2.1956448554992676\n",
      "50/96 iteracja zakonczona po 2.195650815963745\n",
      "51/96 iteracja zakonczona po 2.1626548767089844\n",
      "52/96 iteracja zakonczona po 2.1816537380218506\n",
      "53/96 iteracja zakonczona po 2.1826531887054443\n",
      "54/96 iteracja zakonczona po 2.19364595413208\n",
      "55/96 iteracja zakonczona po 2.1666624546051025\n",
      "56/96 iteracja zakonczona po 2.187649726867676\n",
      "57/96 iteracja zakonczona po 2.162665605545044\n",
      "58/96 iteracja zakonczona po 2.1636648178100586\n",
      "59/96 iteracja zakonczona po 2.17665696144104\n",
      "60/96 iteracja zakonczona po 2.1826529502868652\n",
      "61/96 iteracja zakonczona po 2.194650888442993\n",
      "62/96 iteracja zakonczona po 2.2046337127685547\n",
      "63/96 iteracja zakonczona po 2.199648380279541\n",
      "64/96 iteracja zakonczona po 2.1856460571289062\n",
      "65/96 iteracja zakonczona po 2.1716599464416504\n",
      "66/96 iteracja zakonczona po 2.187649965286255\n",
      "67/96 iteracja zakonczona po 2.2066433429718018\n",
      "68/96 iteracja zakonczona po 2.2066235542297363\n",
      "69/96 iteracja zakonczona po 2.215637445449829\n",
      "70/96 iteracja zakonczona po 2.175663471221924\n",
      "71/96 iteracja zakonczona po 2.1836419105529785\n",
      "72/96 iteracja zakonczona po 2.3315610885620117\n",
      "73/96 iteracja zakonczona po 2.2036402225494385\n",
      "74/96 iteracja zakonczona po 2.19364595413208\n",
      "75/96 iteracja zakonczona po 2.1926519870758057\n",
      "76/96 iteracja zakonczona po 2.176652431488037\n",
      "77/96 iteracja zakonczona po 2.2036447525024414\n",
      "78/96 iteracja zakonczona po 2.1756529808044434\n",
      "79/96 iteracja zakonczona po 2.1866507530212402\n",
      "80/96 iteracja zakonczona po 2.1686618328094482\n",
      "81/96 iteracja zakonczona po 2.1916472911834717\n",
      "82/96 iteracja zakonczona po 2.1996476650238037\n",
      "83/96 iteracja zakonczona po 2.1846468448638916\n",
      "84/96 iteracja zakonczona po 2.1956450939178467\n",
      "85/96 iteracja zakonczona po 2.187650203704834\n",
      "86/96 iteracja zakonczona po 2.175657033920288\n",
      "87/96 iteracja zakonczona po 2.198643684387207\n",
      "88/96 iteracja zakonczona po 2.168661594390869\n",
      "89/96 iteracja zakonczona po 2.2116353511810303\n",
      "90/96 iteracja zakonczona po 2.198643207550049\n",
      "91/96 iteracja zakonczona po 2.192652463912964\n",
      "92/96 iteracja zakonczona po 2.1966392993927\n",
      "93/96 iteracja zakonczona po 2.1926350593566895\n",
      "94/96 iteracja zakonczona po 2.187649965286255\n",
      "95/96 iteracja zakonczona po 2.1856513023376465\n",
      "96/96 iteracja zakonczona po 2.186650514602661\n"
     ]
    },
    {
     "data": {
      "image/png": "[encoded data removed]",
      "text/plain": [
       "<Figure size 432x288 with 1 Axes>"
      ]
     },
     "metadata": {
      "needs_background": "light"
     },
     "output_type": "display_data"
    },
    {
     "name": "stdout",
     "output_type": "stream",
     "text": [
      "trening zakonczony po 209.32982444763184\n",
      "lowest 95\n",
      "final cost:  1.4583488010324583\n"
     ]
    }
   ],
   "source": [
    "theta = fit(X, y)\n",
    "print(\"final cost: \",cost(theta, X, y))"
   ]
  },
  {
   "cell_type": "code",
   "execution_count": 109,
   "metadata": {},
   "outputs": [
    {
     "name": "stdout",
     "output_type": "stream",
     "text": [
      "0.9094379741941719\n",
      "0.9139034322280396\n"
     ]
    }
   ],
   "source": [
    "print(evaluate(theta, X, y))\n",
    "print(evaluate(theta, v_X, v_y))"
   ]
  },
  {
   "cell_type": "code",
   "execution_count": null,
   "metadata": {},
   "outputs": [],
   "source": []
  },
  {
   "cell_type": "code",
   "execution_count": null,
   "metadata": {},
   "outputs": [],
   "source": []
  },
  {
   "cell_type": "code",
   "execution_count": null,
   "metadata": {},
   "outputs": [],
   "source": []
  }
 ],
 "metadata": {
  "kernelspec": {
   "display_name": "Python 3",
   "language": "python",
   "name": "python3"
  },
  "language_info": {
   "codemirror_mode": {
    "name": "ipython",
    "version": 3
   },
   "file_extension": ".py",
   "mimetype": "text/x-python",
   "name": "python",
   "nbconvert_exporter": "python",
   "pygments_lexer": "ipython3",
   "version": "3.7.4"
  }
 },
 "nbformat": 4,
 "nbformat_minor": 2
}
