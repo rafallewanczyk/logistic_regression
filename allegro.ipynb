{
 "cells": [
  {
   "cell_type": "markdown",
   "metadata": {},
   "source": [
    "Przygotowanie danych "
   ]
  },
  {
   "cell_type": "code",
   "execution_count": 63,
   "metadata": {},
   "outputs": [],
   "source": [
    "import gzip\n",
    "import numpy as np\n",
    "import time\n",
    "import matplotlib.pyplot as plt "
   ]
  },
  {
   "cell_type": "code",
   "execution_count": 64,
   "metadata": {},
   "outputs": [
    {
     "name": "stdout",
     "output_type": "stream",
     "text": [
      "(41386, 784)\n",
      "(41386, 1)\n"
     ]
    }
   ],
   "source": [
    "IMAGE_SIZE = 28\n",
    "\n",
    "validation_image = gzip.open(\".\\\\validate\\\\t10k-images-idx3-ubyte.gz\", \"r\")\n",
    "validation_labels = gzip.open(\".\\\\validate\\\\t10k-labels-idx1-ubyte.gz\", \"r\")\n",
    "\n",
    "train_image = gzip.open(\".\\\\train\\\\train-images-idx3-ubyte.gz\", \"r\")\n",
    "train_labels = gzip.open(\".\\\\train\\\\train-labels-idx1-ubyte.gz\", \"r\")\n",
    "\n",
    "validation_image.read(16)\n",
    "validation_labels.read(8)\n",
    "train_image.read(16)\n",
    "train_labels.read(8)\n",
    "\n",
    "def is_prime(x):\n",
    "    if x in [2,3,5,7]:\n",
    "        return 1\n",
    "    elif x in [4,6,8]:\n",
    "        return 0 \n",
    "    return -1\n",
    "\n",
    "is_prime = np.vectorize(is_prime)\n",
    "\n",
    "def generate_matrices(buffer, length):\n",
    "    M = np.frombuffer(buffer, dtype=np.uint8)\n",
    "    M = M.reshape(int(M.shape[0]/(length**2)), -1)\n",
    "\n",
    "    return M\n",
    "\n",
    "def generate_map(labels):\n",
    "    map = np.argwhere(labels == -1)\n",
    "    return map.T[0]\n",
    "\n",
    "\n",
    "X = generate_matrices(train_image.read(), IMAGE_SIZE)\n",
    "y = is_prime(generate_matrices(train_labels.read(), 1))\n",
    "map = generate_map(y)\n",
    "\n",
    "X = np.delete(X, map, 0)\n",
    "y = np.delete(y, map, 0)\n",
    "\n",
    "\n",
    "\n",
    "v_X = generate_matrices(validation_image.read(), IMAGE_SIZE)\n",
    "v_y = is_prime(generate_matrices(validation_labels.read(), 1))\n",
    "map = generate_map(v_y)\n",
    "\n",
    "v_X = np.delete(v_X, map, 0)\n",
    "v_y = np.delete(v_y, map, 0)\n",
    "\n",
    "print(X.shape)\n",
    "print(y.shape)\n",
    "\n"
   ]
  },
  {
   "cell_type": "markdown",
   "metadata": {},
   "source": [
    "Model"
   ]
  },
  {
   "cell_type": "code",
   "execution_count": 68,
   "metadata": {},
   "outputs": [],
   "source": [
    "theta = np.zeros((IMAGE_SIZE **2, 1))\n",
    "step_size = 0.003\n",
    "epochs = 96\n",
    "momentum = 0.9\n",
    "reg = 0.00001\n",
    "\n",
    "np.random.seed(1337)\n",
    "\n",
    "def sigma(z):\n",
    "    return 1 / (1 + np.exp(-z))\n",
    "\n",
    "def cost(theta, X, y):\n",
    "    cost = y*np.log(sigma(np.matmul(X,theta)) + 1e-7)+(1-y)*np.log(1-sigma(np.matmul(X,theta)) +1e-7) \n",
    "    reg_cost = reg/2 * theta**2 \n",
    "    return cost.mean() - reg_cost.mean()\n",
    "    \n",
    "    \n",
    "def fit(X, y):\n",
    "    theta = np.zeros((IMAGE_SIZE **2, 1))\n",
    "    V = np.zeros((IMAGE_SIZE **2, 1))\n",
    "    y_axis = []\n",
    "    \n",
    "    start = time.time()\n",
    "    iteration_start = start\n",
    "    permutation = np.arange(X.shape[0])\n",
    "    for epoch in range(1, epochs+1):\n",
    "        np.random.shuffle(permutation)\n",
    "        for i in permutation:\n",
    "            gradient = (y[i] - sigma(np.matmul(theta.T, X[i])))*X[i].reshape(IMAGE_SIZE**2, 1) - 2*reg*theta\n",
    "            V = momentum * V + (1-momentum) * gradient\n",
    "            theta = theta + step_size*V\n",
    "            \n",
    "        print(f\"{epoch}/{epochs} iteracja zakonczona po {time.time() - iteration_start}\")\n",
    "        iteration_start = time.time()\n",
    "        y_axis.append(cost(theta, X, y))  \n",
    "      \n",
    "    x_axis = np.arange(0, len(y_axis))\n",
    "    fig, ax = plt.subplots()\n",
    "    ax.plot(x_axis, y_axis)\n",
    "    plt.show()\n",
    "        \n",
    "    print(f\"trening zakonczony po {time.time() - start}\")\n",
    "    print(\"lowest\", y_axis.index(min(y_axis)))\n",
    "    \n",
    "    return theta\n",
    "\n",
    "def predict(theta, X):\n",
    "    return sigma(theta.T @ X)\n",
    "\n",
    "def evaluate(theta, X, y):\n",
    "    correct = 0.0\n",
    "    total = 0.0 \n",
    "    \n",
    "    for i in range(X.shape[0]):\n",
    "        if np.rint(predict(theta, X[i])) == y[i] : \n",
    "            correct += 1 \n",
    "        total += 1 \n",
    "    return correct/total\n"
   ]
  },
  {
   "cell_type": "code",
   "execution_count": 69,
   "metadata": {},
   "outputs": [
    {
     "name": "stdout",
     "output_type": "stream",
     "text": [
      "1/96 iteracja zakonczona po 1.5747263431549072\n",
      "2/96 iteracja zakonczona po 1.9636380672454834\n",
      "3/96 iteracja zakonczona po 1.8590350151062012\n",
      "4/96 iteracja zakonczona po 1.8990015983581543\n",
      "5/96 iteracja zakonczona po 1.912186622619629\n",
      "6/96 iteracja zakonczona po 1.8834586143493652\n",
      "7/96 iteracja zakonczona po 1.9300878047943115\n",
      "8/96 iteracja zakonczona po 1.9722223281860352\n",
      "9/96 iteracja zakonczona po 1.8765931129455566\n",
      "10/96 iteracja zakonczona po 1.8284244537353516\n",
      "11/96 iteracja zakonczona po 1.936948537826538\n",
      "12/96 iteracja zakonczona po 1.9387798309326172\n",
      "13/96 iteracja zakonczona po 1.8900856971740723\n",
      "14/96 iteracja zakonczona po 1.9354677200317383\n",
      "15/96 iteracja zakonczona po 1.9714577198028564\n",
      "16/96 iteracja zakonczona po 1.9291470050811768\n",
      "17/96 iteracja zakonczona po 1.9205660820007324\n",
      "18/96 iteracja zakonczona po 1.8673713207244873\n",
      "19/96 iteracja zakonczona po 1.8767313957214355\n",
      "20/96 iteracja zakonczona po 1.9474053382873535\n",
      "21/96 iteracja zakonczona po 1.986922264099121\n",
      "22/96 iteracja zakonczona po 1.9234099388122559\n",
      "23/96 iteracja zakonczona po 1.9606423377990723\n",
      "24/96 iteracja zakonczona po 1.8564038276672363\n",
      "25/96 iteracja zakonczona po 1.919994592666626\n",
      "26/96 iteracja zakonczona po 1.9241585731506348\n",
      "27/96 iteracja zakonczona po 1.902883768081665\n",
      "28/96 iteracja zakonczona po 1.9575209617614746\n",
      "29/96 iteracja zakonczona po 1.9196414947509766\n",
      "30/96 iteracja zakonczona po 1.977139949798584\n",
      "31/96 iteracja zakonczona po 2.018754482269287\n",
      "32/96 iteracja zakonczona po 2.0630688667297363\n",
      "33/96 iteracja zakonczona po 1.9989228248596191\n",
      "34/96 iteracja zakonczona po 1.8901729583740234\n",
      "35/96 iteracja zakonczona po 1.8473591804504395\n",
      "36/96 iteracja zakonczona po 1.862473487854004\n",
      "37/96 iteracja zakonczona po 1.8653690814971924\n",
      "38/96 iteracja zakonczona po 2.0770606994628906\n",
      "39/96 iteracja zakonczona po 1.9750630855560303\n",
      "40/96 iteracja zakonczona po 2.017737627029419\n",
      "41/96 iteracja zakonczona po 2.002568244934082\n",
      "42/96 iteracja zakonczona po 1.9020235538482666\n",
      "43/96 iteracja zakonczona po 2.1570305824279785\n",
      "44/96 iteracja zakonczona po 2.1787688732147217\n",
      "45/96 iteracja zakonczona po 2.0571980476379395\n",
      "46/96 iteracja zakonczona po 1.932826280593872\n",
      "47/96 iteracja zakonczona po 2.0302624702453613\n",
      "48/96 iteracja zakonczona po 1.7749803066253662\n",
      "49/96 iteracja zakonczona po 1.8902204036712646\n",
      "50/96 iteracja zakonczona po 1.898221492767334\n",
      "51/96 iteracja zakonczona po 1.9200174808502197\n",
      "52/96 iteracja zakonczona po 1.9339385032653809\n",
      "53/96 iteracja zakonczona po 1.9284844398498535\n",
      "54/96 iteracja zakonczona po 2.193565607070923\n",
      "55/96 iteracja zakonczona po 2.8785853385925293\n",
      "56/96 iteracja zakonczona po 1.8945109844207764\n",
      "57/96 iteracja zakonczona po 1.8969237804412842\n",
      "58/96 iteracja zakonczona po 2.78377366065979\n",
      "59/96 iteracja zakonczona po 2.1318166255950928\n",
      "60/96 iteracja zakonczona po 2.442751169204712\n",
      "61/96 iteracja zakonczona po 1.9123811721801758\n",
      "62/96 iteracja zakonczona po 1.9700324535369873\n",
      "63/96 iteracja zakonczona po 1.887871503829956\n",
      "64/96 iteracja zakonczona po 1.9287409782409668\n",
      "65/96 iteracja zakonczona po 1.963005781173706\n",
      "66/96 iteracja zakonczona po 1.9732728004455566\n",
      "67/96 iteracja zakonczona po 1.9564616680145264\n",
      "68/96 iteracja zakonczona po 1.9376060962677002\n",
      "69/96 iteracja zakonczona po 1.9113554954528809\n",
      "70/96 iteracja zakonczona po 1.862067461013794\n",
      "71/96 iteracja zakonczona po 1.9141268730163574\n",
      "72/96 iteracja zakonczona po 1.9404566287994385\n",
      "73/96 iteracja zakonczona po 2.0792171955108643\n",
      "74/96 iteracja zakonczona po 1.935572862625122\n",
      "75/96 iteracja zakonczona po 2.34359073638916\n",
      "76/96 iteracja zakonczona po 2.6654820442199707\n",
      "77/96 iteracja zakonczona po 2.8250718116760254\n",
      "78/96 iteracja zakonczona po 3.528744697570801\n",
      "79/96 iteracja zakonczona po 2.3892016410827637\n",
      "80/96 iteracja zakonczona po 2.8194587230682373\n",
      "81/96 iteracja zakonczona po 2.256833553314209\n",
      "82/96 iteracja zakonczona po 1.9451122283935547\n",
      "83/96 iteracja zakonczona po 1.9518845081329346\n",
      "84/96 iteracja zakonczona po 2.37907338142395\n",
      "85/96 iteracja zakonczona po 3.133164882659912\n",
      "86/96 iteracja zakonczona po 2.351214647293091\n",
      "87/96 iteracja zakonczona po 2.4557011127471924\n",
      "88/96 iteracja zakonczona po 2.326103687286377\n",
      "89/96 iteracja zakonczona po 2.670419931411743\n",
      "90/96 iteracja zakonczona po 2.012437343597412\n",
      "91/96 iteracja zakonczona po 2.3535168170928955\n",
      "92/96 iteracja zakonczona po 2.3036863803863525\n",
      "93/96 iteracja zakonczona po 1.9969635009765625\n",
      "94/96 iteracja zakonczona po 1.9077465534210205\n",
      "95/96 iteracja zakonczona po 1.9662151336669922\n",
      "96/96 iteracja zakonczona po 1.9667079448699951\n"
     ]
    },
    {
     "data": {
      "image/png": "[encoded data removed]",
      "text/plain": [
       "<Figure size 432x288 with 1 Axes>"
      ]
     },
     "metadata": {
      "needs_background": "light"
     },
     "output_type": "display_data"
    },
    {
     "name": "stdout",
     "output_type": "stream",
     "text": [
      "trening zakonczony po 199.13270664215088\n",
      "lowest 85\n"
     ]
    }
   ],
   "source": [
    "theta = fit(X,y)"
   ]
  },
  {
   "cell_type": "code",
   "execution_count": 67,
   "metadata": {},
   "outputs": [
    {
     "name": "stdout",
     "output_type": "stream",
     "text": [
      "0.9090513700285121\n",
      "0.9109947643979057\n"
     ]
    }
   ],
   "source": [
    "print(evaluate(theta, X, y))\n",
    "print(evaluate(theta, v_X, v_y))"
   ]
  },
  {
   "cell_type": "code",
   "execution_count": null,
   "metadata": {},
   "outputs": [],
   "source": []
  },
  {
   "cell_type": "code",
   "execution_count": null,
   "metadata": {},
   "outputs": [],
   "source": []
  },
  {
   "cell_type": "code",
   "execution_count": null,
   "metadata": {},
   "outputs": [],
   "source": []
  }
 ],
 "metadata": {
  "kernelspec": {
   "display_name": "Python 3",
   "language": "python",
   "name": "python3"
  },
  "language_info": {
   "codemirror_mode": {
    "name": "ipython",
    "version": 3
   },
   "file_extension": ".py",
   "mimetype": "text/x-python",
   "name": "python",
   "nbconvert_exporter": "python",
   "pygments_lexer": "ipython3",
   "version": "3.7.4"
  }
 },
 "nbformat": 4,
 "nbformat_minor": 2
}
